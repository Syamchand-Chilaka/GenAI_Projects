{
 "cells": [
  {
   "cell_type": "markdown",
   "metadata": {},
   "source": [
    "# Getting Started"
   ]
  },
  {
   "cell_type": "code",
   "execution_count": 3,
   "metadata": {},
   "outputs": [],
   "source": [
    "import os\n",
    "from dotenv import load_dotenv\n",
    "load_dotenv()\n",
    "\n",
    "\n",
    "## Loading OpenAI Key\n",
    "os.environ['OPENAI_API_KEY'] = os.getenv(\"OPENAI_API_KEY\")\n",
    "## Loading Langchain Key\n",
    "os.environ['LANGCHAIN_API_KEY'] = os.getenv(\"LANGCHAIN_API_KEY\")\n",
    "os.environ['LANGCHAIN_TRACING_V2'] = \"true\"\n",
    "os.environ['LANGCHAIN_PROJECT'] = os.getenv(\"LANGCHAIN_PROJECT\")\n"
   ]
  },
  {
   "cell_type": "code",
   "execution_count": 6,
   "metadata": {},
   "outputs": [],
   "source": [
    "from langchain_openai import ChatOpenAI\n",
    "llm = ChatOpenAI(model=\"gpt-4o\")"
   ]
  },
  {
   "cell_type": "code",
   "execution_count": 7,
   "metadata": {},
   "outputs": [
    {
     "data": {
      "text/plain": [
       "ChatOpenAI(client=<openai.resources.chat.completions.Completions object at 0x1093309d0>, async_client=<openai.resources.chat.completions.AsyncCompletions object at 0x109333910>, root_client=<openai.OpenAI object at 0x109331810>, root_async_client=<openai.AsyncOpenAI object at 0x1093324d0>, model_name='gpt-4o', openai_api_key=SecretStr('**********'), openai_proxy='')"
      ]
     },
     "execution_count": 7,
     "metadata": {},
     "output_type": "execute_result"
    }
   ],
   "source": [
    "llm"
   ]
  },
  {
   "cell_type": "code",
   "execution_count": 8,
   "metadata": {},
   "outputs": [
    {
     "data": {
      "text/plain": [
       "AIMessage(content=\"Active learning is an instructional approach that actively engages students in the learning process, as opposed to passively receiving information. This method often involves activities that promote analysis, synthesis, and evaluation of class content. Examples of active learning strategies include group discussions, problem-solving tasks, case studies, role-playing, and hands-on experiments. The goal is to foster deeper understanding, critical thinking, and retention of knowledge by encouraging students to actively participate and take responsibility for their own learning.\\n\\nIn the context of machine learning, active learning is a type of semi-supervised learning where the algorithm selectively queries the most informative data points for labeling. This approach aims to improve the model's performance by efficiently using limited labeled data, thus reducing the need for a large annotated dataset. The model iteratively selects new data points to be labeled based on certain criteria, such as uncertainty or diversity, which helps in building a more robust and accurate model with fewer labeled examples.\", additional_kwargs={'refusal': None}, response_metadata={'token_usage': {'completion_tokens': 186, 'prompt_tokens': 12, 'total_tokens': 198}, 'model_name': 'gpt-4o-2024-05-13', 'system_fingerprint': 'fp_df84d6bd70', 'finish_reason': 'stop', 'logprobs': None}, id='run-9f6ae411-b2b7-4f50-903f-fe0eed68379d-0', usage_metadata={'input_tokens': 12, 'output_tokens': 186, 'total_tokens': 198})"
      ]
     },
     "execution_count": 8,
     "metadata": {},
     "output_type": "execute_result"
    }
   ],
   "source": [
    "llm.invoke(\"What is Active Learning ?\")"
   ]
  },
  {
   "cell_type": "markdown",
   "metadata": {},
   "source": [
    "## ChatPromptTemplate"
   ]
  },
  {
   "cell_type": "code",
   "execution_count": 9,
   "metadata": {},
   "outputs": [
    {
     "data": {
      "text/plain": [
       "ChatPromptTemplate(input_variables=['input'], messages=[SystemMessagePromptTemplate(prompt=PromptTemplate(input_variables=[], template='You are an expert AI Engineer. Provide me answers based on the questions')), HumanMessagePromptTemplate(prompt=PromptTemplate(input_variables=['input'], template='{input}'))])"
      ]
     },
     "execution_count": 9,
     "metadata": {},
     "output_type": "execute_result"
    }
   ],
   "source": [
    "from langchain_core.prompts import ChatPromptTemplate\n",
    "\n",
    "prompt = ChatPromptTemplate.from_messages(\n",
    "    [\n",
    "        (\"system\", \"You are an expert AI Engineer. Provide me answers based on the questions\"),\n",
    "        (\"user\",\"{input}\")\n",
    "    ]\n",
    ")\n",
    "prompt"
   ]
  },
  {
   "cell_type": "code",
   "execution_count": 10,
   "metadata": {},
   "outputs": [],
   "source": [
    "chain= prompt|llm\n",
    "\n",
    "response = chain.invoke({\"input\":\"Can you tell me about langsmith?\"})"
   ]
  },
  {
   "cell_type": "code",
   "execution_count": 11,
   "metadata": {},
   "outputs": [
    {
     "data": {
      "text/plain": [
       "AIMessage(content=\"LangSmith is a suite of developer tools designed to enhance the development experience of those working with language models, such as those provided by OpenAI or other similar providers. The primary goal of LangSmith is to facilitate the testing, debugging, and monitoring of language models, making it easier for developers to build reliable and effective applications. Here are some key features and aspects of LangSmith:\\n\\n1. **Testing**: LangSmith provides tools to write and run tests specifically designed for language models. This can include unit tests, integration tests, and other forms of automated testing to ensure that your language model behaves as expected in various scenarios.\\n\\n2. **Debugging**: The suite offers debugging tools that help developers understand how their language models are processing inputs and generating outputs. This can include step-by-step execution, logging, and other features that make it easier to diagnose issues.\\n\\n3. **Monitoring**: LangSmith includes monitoring capabilities to keep track of language model performance in real-time. This can involve tracking metrics such as response time, accuracy, and user interactions to ensure that the model is performing well in a production environment.\\n\\n4. **Version Control**: Developers can manage different versions of their language models, track changes, and roll back to previous versions if needed. This is crucial for maintaining the stability and reliability of applications that depend on language models.\\n\\n5. **Integration**: LangSmith is designed to easily integrate with various development environments and platforms, making it a versatile tool for developers working with language models in different contexts.\\n\\n6. **User Interface**: The suite typically comes with a user-friendly interface that allows developers to interact with their language models more intuitively. This can include dashboards, visualizations, and other tools that provide a comprehensive view of the model's behavior and performance.\\n\\nLangSmith aims to streamline the development process for language model applications, making it easier for developers to create, test, and deploy high-quality language-based systems.\", additional_kwargs={'refusal': None}, response_metadata={'token_usage': {'completion_tokens': 388, 'prompt_tokens': 33, 'total_tokens': 421}, 'model_name': 'gpt-4o-2024-05-13', 'system_fingerprint': 'fp_df84d6bd70', 'finish_reason': 'stop', 'logprobs': None}, id='run-85926f6c-6196-458a-acee-875452d335fb-0', usage_metadata={'input_tokens': 33, 'output_tokens': 388, 'total_tokens': 421})"
      ]
     },
     "execution_count": 11,
     "metadata": {},
     "output_type": "execute_result"
    }
   ],
   "source": [
    "response"
   ]
  },
  {
   "cell_type": "markdown",
   "metadata": {},
   "source": [
    "## StrOutputParser"
   ]
  },
  {
   "cell_type": "code",
   "execution_count": 13,
   "metadata": {},
   "outputs": [],
   "source": [
    "from langchain_core.output_parsers import StrOutputParser\n",
    "output_parser = StrOutputParser()\n",
    "chain = prompt|llm|output_parser\n",
    "\n",
    "response = chain.invoke({\"input\":\"Can you tell me about langsmith?\"})"
   ]
  },
  {
   "cell_type": "code",
   "execution_count": 14,
   "metadata": {},
   "outputs": [
    {
     "data": {
      "text/plain": [
       "'Certainly! As of my last update in October 2023, \"Langsmith\" isn\\'t a widely recognized term or entity in the technology or AI community. It could be a relatively new tool, company, or concept that has emerged more recently. \\n\\nHowever, if you\\'re referring to something specific and contextual within a niche area, here are a few educated guesses based on similar terms:\\n\\n1. **Language Model Development Tools**: If \"Langsmith\" is related to AI, it might be a tool or platform designed for creating, fine-tuning, or deploying language models. It could provide features for natural language processing (NLP), text generation, or other AI-driven language tasks.\\n\\n2. **Programming or Scripting Languages**: It could be a new programming language or a framework designed to assist developers in writing code more efficiently, possibly with a focus on language processing or AI.\\n\\n3. **Educational Platform**: It might be a platform designed to teach or enhance skills in language or AI development, offering resources, tutorials, and hands-on projects.\\n\\nTo provide a more precise answer, I would need more context or details about \"Langsmith.\" If you have any specific information or a description, please share it!'"
      ]
     },
     "execution_count": 14,
     "metadata": {},
     "output_type": "execute_result"
    }
   ],
   "source": [
    "response"
   ]
  }
 ],
 "metadata": {
  "kernelspec": {
   "display_name": "llm-venv",
   "language": "python",
   "name": "python3"
  },
  "language_info": {
   "codemirror_mode": {
    "name": "ipython",
    "version": 3
   },
   "file_extension": ".py",
   "mimetype": "text/x-python",
   "name": "python",
   "nbconvert_exporter": "python",
   "pygments_lexer": "ipython3",
   "version": "3.10.14"
  }
 },
 "nbformat": 4,
 "nbformat_minor": 2
}

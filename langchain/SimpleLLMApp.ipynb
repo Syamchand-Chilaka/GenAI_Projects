{
 "cells": [
  {
   "cell_type": "markdown",
   "metadata": {},
   "source": [
    "# Creating a Simple LLM App"
   ]
  },
  {
   "cell_type": "markdown",
   "metadata": {},
   "source": [
    "##  Loading ENV Variables"
   ]
  },
  {
   "cell_type": "code",
   "execution_count": 1,
   "metadata": {},
   "outputs": [],
   "source": [
    "import os\n",
    "from dotenv import load_dotenv\n",
    "load_dotenv()\n",
    "\n",
    "\n",
    "## Loading OpenAI Key\n",
    "os.environ['OPENAI_API_KEY'] = os.getenv(\"OPENAI_API_KEY\")\n",
    "## Loading Langchain Key\n",
    "os.environ['LANGCHAIN_API_KEY'] = os.getenv(\"LANGCHAIN_API_KEY\")\n",
    "os.environ['LANGCHAIN_TRACING_V2'] = \"true\"\n",
    "os.environ['LANGCHAIN_PROJECT'] = os.getenv(\"LANGCHAIN_PROJECT\")"
   ]
  },
  {
   "cell_type": "markdown",
   "metadata": {},
   "source": [
    "## Data Ingestion -- From Website"
   ]
  },
  {
   "cell_type": "code",
   "execution_count": 2,
   "metadata": {},
   "outputs": [
    {
     "name": "stderr",
     "output_type": "stream",
     "text": [
      "USER_AGENT environment variable not set, consider setting it to identify your requests.\n"
     ]
    }
   ],
   "source": [
    "from langchain_community.document_loaders import WebBaseLoader"
   ]
  },
  {
   "cell_type": "code",
   "execution_count": 12,
   "metadata": {},
   "outputs": [],
   "source": [
    "loader = WebBaseLoader(\"https://docs.smith.langchain.com/tutorials/Developers/observability\")\n",
    "documents = loader.load()"
   ]
  },
  {
   "cell_type": "code",
   "execution_count": 13,
   "metadata": {},
   "outputs": [
    {
     "data": {
      "text/plain": [
       "[Document(metadata={'source': 'https://docs.smith.langchain.com/tutorials/Developers/observability', 'title': 'Add observability to your LLM application | \\uf8ffü¶úÔ∏è\\uf8ffüõ†Ô∏è LangSmith', 'description': 'Observability is important for any software application, but especially so for LLM applications.', 'language': 'en'}, page_content='\\n\\n\\n\\n\\nAdd observability to your LLM application | \\uf8ffü¶úÔ∏è\\uf8ffüõ†Ô∏è LangSmith\\n\\n\\n\\n\\n\\n\\n\\nSkip to main contentGo to API DocsSearchRegionUSEUGo to AppQuick startTutorialsAdministratorsDevelopersAdd observability to your LLM applicationEvaluate your LLM applicationOptimize a classifierRAG EvaluationsBacktestingEvaluate an agentRunning SWE-bench with LangSmithHow-to guidesConceptsReferencePricingSelf-hostingLangGraph CloudTutorialsDevelopersAdd observability to your LLM applicationOn this pageAdd observability to your LLM applicationObservability is important for any software application, but especially so for LLM applications.\\nLLMs are non-deterministic by nature, meaning they can produce unexpected results.\\nThis makes them trickier than normal to debug.Luckily, this is where LangSmith can help!\\nLangSmith has LLM-native observability, allowing you to get meaningful insights into your application.Note that observability is important throughout all stages of application development - from prototyping, to beta testing, to production.\\nThere are different considerations at all stages, but they are all intricately tied together.\\nIn this tutorial we walk through the natural progression.Let\\'s assume that we\\'re building a simple RAG application using the OpenAI SDK.\\nThe simple application we\\'re adding observability to looks like:PythonTypeScriptfrom openai import OpenAIopenai_client = OpenAI()# This is the retriever we will use in RAG# This is mocked out, but it could be anything we wantdef retriever(query: str):    results = [\"Harrison worked at Kensho\"]    return results# This is the end-to-end RAG chain.# It does a retrieval step then calls OpenAIdef rag(question):    docs = retriever(question)    system_message = \"\"\"Answer the users question using only the provided information below:        {docs}\"\"\".format(docs=\"\\\\n\".join(docs))        return openai_client.chat.completions.create(        messages=[            {\"role\": \"system\", \"content\": system_message},            {\"role\": \"user\", \"content\": question},        ],        model=\"gpt-3.5-turbo\",    )import { OpenAI } from \"openai\";const openAIClient = new OpenAI();// This is the retriever we will use in RAG// This is mocked out, but it could be anything we wantasync function retriever(query: string) {  return [\"This is a document\"];}// This is the end-to-end RAG chain.// It does a retrieval step then calls OpenAIasync function rag(question: string) {  const docs = await retriever(question);    const systemMessage =    \"Answer the users question using only the provided information below:\\\\n\\\\n\" +    docs.join(\"\\\\n\");      return await openAIClient.chat.completions.create({    messages: [      { role: \"system\", content: systemMessage },      { role: \"user\", content: question },    ],    model: \"gpt-3.5-turbo\",  });}Prototyping‚ÄãHaving observability set up from the start can you help iterate much more quickly than you would otherwise be able to.\\nIt allows you to have great visibility into your application as you are rapidly iterating on the prompt, or changing the data and models you are using.\\nIn this section we\\'ll walk through how to set up observability so you can have maximal observability as you are prototyping.Set up your environment‚ÄãFirst, create an API key by navigating to the settings page.Next, install the LangSmith SDK:Python SDKTypeScript SDKpip install langsmithnpm install langsmithFinally, set up the appropriate environment variables. This will log traces to the default project (though you can easily change that).export LANGCHAIN_TRACING_V2=trueexport LANGCHAIN_API_KEY=<your-api-key>export LANGCHAIN_PROJECT=defaultTrace your LLM calls‚ÄãThe first thing you might want to trace is all your OpenAI calls.\\nAfter all, this is where the LLM is actually being called, so it is the most important part!\\nWe\\'ve tried to make this as easy as possible with LangSmith by introducing a dead-simple OpenAI wrapper.\\nAll you have to do is modify your code to look something like:PythonTypeScriptfrom openai import OpenAIfrom langsmith.wrappers import wrap_openaiopenai_client = wrap_openai(OpenAI())# This is the retriever we will use in RAG# This is mocked out, but it could be anything we wantdef retriever(query: str):    results = [\"Harrison worked at Kensho\"]    return results# This is the end-to-end RAG chain.# It does a retrieval step then calls OpenAIdef rag(question):    docs = retriever(question)    system_message = \"\"\"Answer the users question using only the provided information below:        {docs}\"\"\".format(docs=\"\\\\n\".join(docs))        return openai_client.chat.completions.create(        messages=[            {\"role\": \"system\", \"content\": system_message},            {\"role\": \"user\", \"content\": question},        ],        model=\"gpt-3.5-turbo\",    )import { OpenAI } from \"openai\";import { wrapOpenAI } from \"langsmith/wrappers\";const openAIClient = wrapOpenAI(new OpenAI());// This is the retriever we will use in RAG// This is mocked out, but it could be anything we wantasync function retriever(query: string) {  return [\"This is a document\"];}// This is the end-to-end RAG chain.// It does a retrieval step then calls OpenAIasync function rag(question: string) {  const docs = await retriever(question);    const systemMessage =    \"Answer the users question using only the provided information below:\\\\n\\\\n\" +    docs.join(\"\\\\n\");      return await openAIClient.chat.completions.create({    messages: [      { role: \"system\", content: systemMessage },      { role: \"user\", content: question },    ],    model: \"gpt-3.5-turbo\",  });}Notice how we import from langsmith.wrappers import wrap_openai and use it to wrap the OpenAI client (openai_client = wrap_openai(OpenAI())).What happens if you call it in the following way?rag(\"where did harrison work\")This will produce a trace of just the OpenAI call - it should look something like thisTrace the whole chain‚ÄãGreat - we\\'ve traced the LLM call. But it\\'s often very informative to trace more than that.\\nLangSmith is built for tracing the entire LLM pipeline - so let\\'s do that!\\nWe can do this by modifying the code to now look something like this:PythonTypeScriptfrom openai import OpenAIfrom langsmith import traceablefrom langsmith.wrappers import wrap_openaiopenai_client = wrap_openai(OpenAI())def retriever(query: str):    results = [\"Harrison worked at Kensho\"]    return results@traceabledef rag(question):    docs = retriever(question)    system_message = \"\"\"Answer the users question using only the provided information below:        {docs}\"\"\".format(docs=\"\\\\n\".join(docs))        return openai_client.chat.completions.create(        messages=[            {\"role\": \"system\", \"content\": system_message},            {\"role\": \"user\", \"content\": question},        ],        model=\"gpt-3.5-turbo\",    )import { OpenAI } from \"openai\";import { traceable } from \"langsmith/traceable\";import { wrapOpenAI } from \"langsmith/wrappers\";const openAIClient = wrapOpenAI(new OpenAI());async function retriever(query: string) {  return [\"This is a document\"];}const rag = traceable(async function rag(question: string) {  const docs = await retriever(question);    const systemMessage =    \"Answer the users question using only the provided information below:\\\\n\\\\n\" +    docs.join(\"\\\\n\");      return await openAIClient.chat.completions.create({    messages: [      { role: \"system\", content: systemMessage },      { role: \"user\", content: question },    ],    model: \"gpt-3.5-turbo\",  });});Notice how we import from langsmith import traceable and use it decorate the overall function (@traceable).What happens if you call it in the following way?rag(\"where did harrison work\")This will produce a trace of just the entire pipeline (with the OpenAI call as a child run) - it should look something like thisTrace the retrieval step‚ÄãThere\\'s one last part of the application we haven\\'t traced - the retrieval step!\\nRetrieval is a key part of LLM applications, and we\\'ve made it easy to log retrieval steps as well.\\nAll we have to do is modify our code to look like:PythonTypeScriptfrom openai import OpenAIfrom langsmith import traceablefrom langsmith.wrappers import wrap_openaiopenai_client = wrap_openai(OpenAI())@traceable(run_type=\"retriever\")def retriever(query: str):    results = [\"Harrison worked at Kensho\"]    return results@traceabledef rag(question):    docs = retriever(question)    system_message = \"\"\"Answer the users question using only the provided information below:        {docs}\"\"\".format(docs=\"\\\\n\".join(docs))        return openai_client.chat.completions.create(        messages=[            {\"role\": \"system\", \"content\": system_message},            {\"role\": \"user\", \"content\": question},        ],        model=\"gpt-3.5-turbo\",    )import { OpenAI } from \"openai\";import { traceable } from \"langsmith/traceable\";import { wrapOpenAI } from \"langsmith/wrappers\";const openAIClient = wrapOpenAI(new OpenAI());const retriever = traceable(  async function retriever(query: string) {    return [\"This is a document\"];  },  { run_type: \"retriever\" })const rag = traceable(async function rag(question: string) {  const docs = await retriever(question);    const systemMessage =    \"Answer the users question using only the provided information below:\\\\n\\\\n\" +    docs.join(\"\\\\n\");      return await openAIClient.chat.completions.create({    messages: [      { role: \"system\", content: systemMessage },      { role: \"user\", content: question },    ],    model: \"gpt-3.5-turbo\",  });});Notice how we import from langsmith import traceable and use it decorate the overall function (@traceable(run_type=\"retriever\")).What happens if you call it in the following way?rag(\"where did harrison work\")This will produce a trace of the whole chain including the retrieval step - it should look something like thisBeta Testing‚ÄãThe next stage of LLM application development is beta testing your application.\\nThis is when you release it to a few initial users.\\nHaving good observability set up here is crucial as often you don\\'t know exactly how users will actually use your application, so this allows you get insights into how they do so.\\nThis also means that you probably want to make some changes to your tracing set up to better allow for that.\\nThis extends the observability you set up in the previous sectionCollecting Feedback‚ÄãA huge part of having good observability during beta testing is collecting feedback.\\nWhat feedback you collect is often application specific - but at the very least a simple thumbs up/down is a good start.\\nAfter logging that feedback, you need to be able to easily associate it with the run that caused that.\\nLuckily LangSmith makes it easy to do that.First, you need to log the feedback from your app.\\nAn easy way to do this is to keep track of a run ID for each run, and then use that to log feedback.\\nKeeping track of the run ID would look something like:import uuidrun_id = str(uuid.uuid4())rag(    \"where did harrison work\",    langsmith_extra={\"run_id\": run_id})Associating feedback with that run would look something like:from langsmith import Clientls_client = Client()ls_client.create_feedback(    run_id,    key=\"user-score\",    score=1.0,)Once the feedback is logged, you can then see it associated with each run by clicking into the Metadata tab when inspecting the run.\\nIt should look something like thisYou can also query for all runs with positive (or negative) feedback by using the filtering logic in the runs table.\\nYou can do this by creating a filter like the following:Logging Metadata‚ÄãIt is also a good idea to start logging metadata.\\nThis allows you to start keep track of different attributes of your app.\\nThis is important in allowing you to know what version or variant of your app was used to produce a given result.For this example, we will log the LLM used.\\nOftentimes you may be experimenting with different LLMs, so having that information as metadata can be useful for filtering.\\nIn order to do that, we can add it as such:from openai import OpenAIfrom langsmith import traceablefrom langsmith.wrappers import wrap_openaiopenai_client = wrap_openai(OpenAI())@traceable(run_type=\"retriever\")def retriever(query: str):    results = [\"Harrison worked at Kensho\"]    return results@traceable(metadata={\"llm\": \"gpt-3.5-turbo\"})def rag(question):    docs = retriever(question)    system_message = \"\"\"Answer the users question using only the provided information below:    {docs}\"\"\".format(docs=\\'\\\\n\\'.join(docs))    return openai_client.chat.completions.create(messages = [        {\"role\": \"system\", \"content\": system_message},        {\"role\": \"user\", \"content\": question},    ], model=\"gpt-3.5-turbo\")Notice we added @traceable(metadata={\"llm\": \"gpt-3.5-turbo\"}) to the rag function.Keeping track of metadata in this way assumes that it is known ahead of time.\\nThis is fine for LLM types, but less desirable for other types of information - like a User ID.\\nIn order to log information that, we can pass it in at run time with the run ID.import uuidrun_id = str(uuid.uuid4())rag(    \"where did harrison work\",    langsmith_extra={\"run_id\": run_id, \"metadata\": {\"user_id\": \"harrison\"}})Now that we\\'ve logged these two pieces of metadata, we should be able to see them both show up in the UI here.We can filter for these pieces of information by constructing a filter like the following:Production‚ÄãGreat - you\\'ve used this newfound observability to iterate quickly and gain confidence that your app is performing well.\\nTime to ship it to production!\\nWhat new observability do you need to add?First of all, let\\'s note that the same observability you\\'ve already added will keep on providing value in production.\\nYou will continue to be able to drill down into particular runs.In production you likely have a LOT more traffic. So you don\\'t really want to be stuck looking at datapoints one at a time.\\nLuckily, LangSmith has a set of tools to help with observability in production.Monitoring‚ÄãIf you click on the Monitor tab in a project, you will see a series of monitoring charts.\\nHere we track lots of LLM specific statistics - number of traces, feedback, time-to-first-token, etc.\\nYou can view these over time across a few different time bins.A/B Testing‚ÄãnoteGroup-by functionality for A/B testing requires at least 2 different values to exist for a given metadata key.You can also use this tab to perform a version of A/B Testing.\\nIn the previous tutorial we starting tracking a few different metadata attributes - one of which was llm.\\nWe can group the monitoring charts by ANY metadata attribute, and instantly get grouped charts over time.\\nThis allows us to experiment with different LLMs (or prompts, or other) and track their performance over time.In order to do this, we just need to click on the Metadata button at the top.\\nThis will give us a drop down of options to choose from to group by:Once we select this, we will start to see charts grouped by this attribute:Drilldown‚ÄãOne of the awesome abilities that LangSmith provides is the ability to easily drilldown into datapoints that you identify\\nas problematic while looking at monitoring charts.\\nIn order to do this, you can simply hover over a datapoint in the monitoring chart.\\nWhen you do this, you will be able to click the datapoint.\\nThis will lead you back to the runs table with a filtered view:Conclusion‚ÄãIn this tutorial you saw how to set up your LLM application with best-in-class observability.\\nNo matter what stage your application is in, you will still benefit from observability.If you have more in-depth questions about observability, check out the how-to section for guides on topics like testing, prompt management, and more.Observability is not the only thing LangSmith can help with!\\nIt can also help with evaluation, optimization, and more!\\nCheck out the other tutorials to see how to get started with those.Was this page helpful?You can leave detailed feedback on GitHub.PreviousOptimize tracing spend on LangSmithNextEvaluate your LLM applicationPrototypingSet up your environmentTrace your LLM callsTrace the whole chainTrace the retrieval stepBeta TestingCollecting FeedbackLogging MetadataProductionMonitoringA/B TestingDrilldownConclusionCommunityDiscordTwitterGitHubDocs CodeLangSmith SDKPythonJS/TSMoreHomepageBlogLangChain Python DocsLangChain JS/TS DocsCopyright ¬© 2024 LangChain, Inc.\\n\\n\\n\\n')]"
      ]
     },
     "execution_count": 13,
     "metadata": {},
     "output_type": "execute_result"
    }
   ],
   "source": [
    "documents"
   ]
  },
  {
   "cell_type": "markdown",
   "metadata": {},
   "source": [
    "## Chunking"
   ]
  },
  {
   "cell_type": "code",
   "execution_count": 14,
   "metadata": {},
   "outputs": [],
   "source": [
    "from langchain_text_splitters import RecursiveCharacterTextSplitter\n",
    "text_splitter = RecursiveCharacterTextSplitter(chunk_size = 500, chunk_overlap= 100)\n",
    "documents = text_splitter.split_documents(documents)"
   ]
  },
  {
   "cell_type": "code",
   "execution_count": 15,
   "metadata": {},
   "outputs": [
    {
     "data": {
      "text/plain": [
       "[Document(metadata={'source': 'https://docs.smith.langchain.com/tutorials/Developers/observability', 'title': 'Add observability to your LLM application | \\uf8ffü¶úÔ∏è\\uf8ffüõ†Ô∏è LangSmith', 'description': 'Observability is important for any software application, but especially so for LLM applications.', 'language': 'en'}, page_content='Add observability to your LLM application | \\uf8ffü¶úÔ∏è\\uf8ffüõ†Ô∏è LangSmith'),\n",
       " Document(metadata={'source': 'https://docs.smith.langchain.com/tutorials/Developers/observability', 'title': 'Add observability to your LLM application | \\uf8ffü¶úÔ∏è\\uf8ffüõ†Ô∏è LangSmith', 'description': 'Observability is important for any software application, but especially so for LLM applications.', 'language': 'en'}, page_content='Skip to main contentGo to API DocsSearchRegionUSEUGo to AppQuick startTutorialsAdministratorsDevelopersAdd observability to your LLM applicationEvaluate your LLM applicationOptimize a classifierRAG EvaluationsBacktestingEvaluate an agentRunning SWE-bench with LangSmithHow-to guidesConceptsReferencePricingSelf-hostingLangGraph CloudTutorialsDevelopersAdd observability to your LLM applicationOn this pageAdd observability to your LLM applicationObservability is important for any software'),\n",
       " Document(metadata={'source': 'https://docs.smith.langchain.com/tutorials/Developers/observability', 'title': 'Add observability to your LLM application | \\uf8ffü¶úÔ∏è\\uf8ffüõ†Ô∏è LangSmith', 'description': 'Observability is important for any software application, but especially so for LLM applications.', 'language': 'en'}, page_content='this pageAdd observability to your LLM applicationObservability is important for any software application, but especially so for LLM applications.'),\n",
       " Document(metadata={'source': 'https://docs.smith.langchain.com/tutorials/Developers/observability', 'title': 'Add observability to your LLM application | \\uf8ffü¶úÔ∏è\\uf8ffüõ†Ô∏è LangSmith', 'description': 'Observability is important for any software application, but especially so for LLM applications.', 'language': 'en'}, page_content='LLMs are non-deterministic by nature, meaning they can produce unexpected results.\\nThis makes them trickier than normal to debug.Luckily, this is where LangSmith can help!\\nLangSmith has LLM-native observability, allowing you to get meaningful insights into your application.Note that observability is important throughout all stages of application development - from prototyping, to beta testing, to production.'),\n",
       " Document(metadata={'source': 'https://docs.smith.langchain.com/tutorials/Developers/observability', 'title': 'Add observability to your LLM application | \\uf8ffü¶úÔ∏è\\uf8ffüõ†Ô∏è LangSmith', 'description': 'Observability is important for any software application, but especially so for LLM applications.', 'language': 'en'}, page_content=\"There are different considerations at all stages, but they are all intricately tied together.\\nIn this tutorial we walk through the natural progression.Let's assume that we're building a simple RAG application using the OpenAI SDK.\"),\n",
       " Document(metadata={'source': 'https://docs.smith.langchain.com/tutorials/Developers/observability', 'title': 'Add observability to your LLM application | \\uf8ffü¶úÔ∏è\\uf8ffüõ†Ô∏è LangSmith', 'description': 'Observability is important for any software application, but especially so for LLM applications.', 'language': 'en'}, page_content='The simple application we\\'re adding observability to looks like:PythonTypeScriptfrom openai import OpenAIopenai_client = OpenAI()# This is the retriever we will use in RAG# This is mocked out, but it could be anything we wantdef retriever(query: str):    results = [\"Harrison worked at Kensho\"]    return results# This is the end-to-end RAG chain.# It does a retrieval step then calls OpenAIdef rag(question):    docs = retriever(question)    system_message = \"\"\"Answer the users question using only'),\n",
       " Document(metadata={'source': 'https://docs.smith.langchain.com/tutorials/Developers/observability', 'title': 'Add observability to your LLM application | \\uf8ffü¶úÔ∏è\\uf8ffüõ†Ô∏è LangSmith', 'description': 'Observability is important for any software application, but especially so for LLM applications.', 'language': 'en'}, page_content='docs = retriever(question)    system_message = \"\"\"Answer the users question using only the provided information below:        {docs}\"\"\".format(docs=\"\\\\n\".join(docs))        return openai_client.chat.completions.create(        messages=[            {\"role\": \"system\", \"content\": system_message},            {\"role\": \"user\", \"content\": question},        ],        model=\"gpt-3.5-turbo\",    )import { OpenAI } from \"openai\";const openAIClient = new OpenAI();// This is the retriever we will use in'),\n",
       " Document(metadata={'source': 'https://docs.smith.langchain.com/tutorials/Developers/observability', 'title': 'Add observability to your LLM application | \\uf8ffü¶úÔ∏è\\uf8ffüõ†Ô∏è LangSmith', 'description': 'Observability is important for any software application, but especially so for LLM applications.', 'language': 'en'}, page_content='{ OpenAI } from \"openai\";const openAIClient = new OpenAI();// This is the retriever we will use in RAG// This is mocked out, but it could be anything we wantasync function retriever(query: string) {  return [\"This is a document\"];}// This is the end-to-end RAG chain.// It does a retrieval step then calls OpenAIasync function rag(question: string) {  const docs = await retriever(question);    const systemMessage =    \"Answer the users question using only the provided information below:\\\\n\\\\n\" +'),\n",
       " Document(metadata={'source': 'https://docs.smith.langchain.com/tutorials/Developers/observability', 'title': 'Add observability to your LLM application | \\uf8ffü¶úÔ∏è\\uf8ffüõ†Ô∏è LangSmith', 'description': 'Observability is important for any software application, but especially so for LLM applications.', 'language': 'en'}, page_content='systemMessage =    \"Answer the users question using only the provided information below:\\\\n\\\\n\" +    docs.join(\"\\\\n\");      return await openAIClient.chat.completions.create({    messages: [      { role: \"system\", content: systemMessage },      { role: \"user\", content: question },    ],    model: \"gpt-3.5-turbo\",  });}Prototyping‚ÄãHaving observability set up from the start can you help iterate much more quickly than you would otherwise be able to.'),\n",
       " Document(metadata={'source': 'https://docs.smith.langchain.com/tutorials/Developers/observability', 'title': 'Add observability to your LLM application | \\uf8ffü¶úÔ∏è\\uf8ffüõ†Ô∏è LangSmith', 'description': 'Observability is important for any software application, but especially so for LLM applications.', 'language': 'en'}, page_content='It allows you to have great visibility into your application as you are rapidly iterating on the prompt, or changing the data and models you are using.'),\n",
       " Document(metadata={'source': 'https://docs.smith.langchain.com/tutorials/Developers/observability', 'title': 'Add observability to your LLM application | \\uf8ffü¶úÔ∏è\\uf8ffüõ†Ô∏è LangSmith', 'description': 'Observability is important for any software application, but especially so for LLM applications.', 'language': 'en'}, page_content=\"In this section we'll walk through how to set up observability so you can have maximal observability as you are prototyping.Set up your environment‚ÄãFirst, create an API key by navigating to the settings page.Next, install the LangSmith SDK:Python SDKTypeScript SDKpip install langsmithnpm install langsmithFinally, set up the appropriate environment variables. This will log traces to the default project (though you can easily change that).export LANGCHAIN_TRACING_V2=trueexport\"),\n",
       " Document(metadata={'source': 'https://docs.smith.langchain.com/tutorials/Developers/observability', 'title': 'Add observability to your LLM application | \\uf8ffü¶úÔ∏è\\uf8ffüõ†Ô∏è LangSmith', 'description': 'Observability is important for any software application, but especially so for LLM applications.', 'language': 'en'}, page_content='to the default project (though you can easily change that).export LANGCHAIN_TRACING_V2=trueexport LANGCHAIN_API_KEY=<your-api-key>export LANGCHAIN_PROJECT=defaultTrace your LLM calls‚ÄãThe first thing you might want to trace is all your OpenAI calls.'),\n",
       " Document(metadata={'source': 'https://docs.smith.langchain.com/tutorials/Developers/observability', 'title': 'Add observability to your LLM application | \\uf8ffü¶úÔ∏è\\uf8ffüõ†Ô∏è LangSmith', 'description': 'Observability is important for any software application, but especially so for LLM applications.', 'language': 'en'}, page_content=\"After all, this is where the LLM is actually being called, so it is the most important part!\\nWe've tried to make this as easy as possible with LangSmith by introducing a dead-simple OpenAI wrapper.\"),\n",
       " Document(metadata={'source': 'https://docs.smith.langchain.com/tutorials/Developers/observability', 'title': 'Add observability to your LLM application | \\uf8ffü¶úÔ∏è\\uf8ffüõ†Ô∏è LangSmith', 'description': 'Observability is important for any software application, but especially so for LLM applications.', 'language': 'en'}, page_content='All you have to do is modify your code to look something like:PythonTypeScriptfrom openai import OpenAIfrom langsmith.wrappers import wrap_openaiopenai_client = wrap_openai(OpenAI())# This is the retriever we will use in RAG# This is mocked out, but it could be anything we wantdef retriever(query: str):    results = [\"Harrison worked at Kensho\"]    return results# This is the end-to-end RAG chain.# It does a retrieval step then calls OpenAIdef rag(question):    docs = retriever(question)'),\n",
       " Document(metadata={'source': 'https://docs.smith.langchain.com/tutorials/Developers/observability', 'title': 'Add observability to your LLM application | \\uf8ffü¶úÔ∏è\\uf8ffüõ†Ô∏è LangSmith', 'description': 'Observability is important for any software application, but especially so for LLM applications.', 'language': 'en'}, page_content='It does a retrieval step then calls OpenAIdef rag(question):    docs = retriever(question)    system_message = \"\"\"Answer the users question using only the provided information below:        {docs}\"\"\".format(docs=\"\\\\n\".join(docs))        return openai_client.chat.completions.create(        messages=[            {\"role\": \"system\", \"content\": system_message},            {\"role\": \"user\", \"content\": question},        ],        model=\"gpt-3.5-turbo\",    )import { OpenAI } from \"openai\";import {'),\n",
       " Document(metadata={'source': 'https://docs.smith.langchain.com/tutorials/Developers/observability', 'title': 'Add observability to your LLM application | \\uf8ffü¶úÔ∏è\\uf8ffüõ†Ô∏è LangSmith', 'description': 'Observability is important for any software application, but especially so for LLM applications.', 'language': 'en'}, page_content='question},        ],        model=\"gpt-3.5-turbo\",    )import { OpenAI } from \"openai\";import { wrapOpenAI } from \"langsmith/wrappers\";const openAIClient = wrapOpenAI(new OpenAI());// This is the retriever we will use in RAG// This is mocked out, but it could be anything we wantasync function retriever(query: string) {  return [\"This is a document\"];}// This is the end-to-end RAG chain.// It does a retrieval step then calls OpenAIasync function rag(question: string) {  const docs = await'),\n",
       " Document(metadata={'source': 'https://docs.smith.langchain.com/tutorials/Developers/observability', 'title': 'Add observability to your LLM application | \\uf8ffü¶úÔ∏è\\uf8ffüõ†Ô∏è LangSmith', 'description': 'Observability is important for any software application, but especially so for LLM applications.', 'language': 'en'}, page_content='does a retrieval step then calls OpenAIasync function rag(question: string) {  const docs = await retriever(question);    const systemMessage =    \"Answer the users question using only the provided information below:\\\\n\\\\n\" +    docs.join(\"\\\\n\");      return await openAIClient.chat.completions.create({    messages: [      { role: \"system\", content: systemMessage },      { role: \"user\", content: question },    ],    model: \"gpt-3.5-turbo\",  });}Notice how we import from langsmith.wrappers import'),\n",
       " Document(metadata={'source': 'https://docs.smith.langchain.com/tutorials/Developers/observability', 'title': 'Add observability to your LLM application | \\uf8ffü¶úÔ∏è\\uf8ffüõ†Ô∏è LangSmith', 'description': 'Observability is important for any software application, but especially so for LLM applications.', 'language': 'en'}, page_content='},    ],    model: \"gpt-3.5-turbo\",  });}Notice how we import from langsmith.wrappers import wrap_openai and use it to wrap the OpenAI client (openai_client = wrap_openai(OpenAI())).What happens if you call it in the following way?rag(\"where did harrison work\")This will produce a trace of just the OpenAI call - it should look something like thisTrace the whole chain‚ÄãGreat - we\\'ve traced the LLM call. But it\\'s often very informative to trace more than that.'),\n",
       " Document(metadata={'source': 'https://docs.smith.langchain.com/tutorials/Developers/observability', 'title': 'Add observability to your LLM application | \\uf8ffü¶úÔ∏è\\uf8ffüõ†Ô∏è LangSmith', 'description': 'Observability is important for any software application, but especially so for LLM applications.', 'language': 'en'}, page_content=\"LangSmith is built for tracing the entire LLM pipeline - so let's do that!\"),\n",
       " Document(metadata={'source': 'https://docs.smith.langchain.com/tutorials/Developers/observability', 'title': 'Add observability to your LLM application | \\uf8ffü¶úÔ∏è\\uf8ffüõ†Ô∏è LangSmith', 'description': 'Observability is important for any software application, but especially so for LLM applications.', 'language': 'en'}, page_content='We can do this by modifying the code to now look something like this:PythonTypeScriptfrom openai import OpenAIfrom langsmith import traceablefrom langsmith.wrappers import wrap_openaiopenai_client = wrap_openai(OpenAI())def retriever(query: str):    results = [\"Harrison worked at Kensho\"]    return results@traceabledef rag(question):    docs = retriever(question)    system_message = \"\"\"Answer the users question using only the provided information below:'),\n",
       " Document(metadata={'source': 'https://docs.smith.langchain.com/tutorials/Developers/observability', 'title': 'Add observability to your LLM application | \\uf8ffü¶úÔ∏è\\uf8ffüõ†Ô∏è LangSmith', 'description': 'Observability is important for any software application, but especially so for LLM applications.', 'language': 'en'}, page_content='system_message = \"\"\"Answer the users question using only the provided information below:        {docs}\"\"\".format(docs=\"\\\\n\".join(docs))        return openai_client.chat.completions.create(        messages=[            {\"role\": \"system\", \"content\": system_message},            {\"role\": \"user\", \"content\": question},        ],        model=\"gpt-3.5-turbo\",    )import { OpenAI } from \"openai\";import { traceable } from \"langsmith/traceable\";import { wrapOpenAI } from \"langsmith/wrappers\";const'),\n",
       " Document(metadata={'source': 'https://docs.smith.langchain.com/tutorials/Developers/observability', 'title': 'Add observability to your LLM application | \\uf8ffü¶úÔ∏è\\uf8ffüõ†Ô∏è LangSmith', 'description': 'Observability is important for any software application, but especially so for LLM applications.', 'language': 'en'}, page_content='{ traceable } from \"langsmith/traceable\";import { wrapOpenAI } from \"langsmith/wrappers\";const openAIClient = wrapOpenAI(new OpenAI());async function retriever(query: string) {  return [\"This is a document\"];}const rag = traceable(async function rag(question: string) {  const docs = await retriever(question);    const systemMessage =    \"Answer the users question using only the provided information below:\\\\n\\\\n\" +    docs.join(\"\\\\n\");      return await openAIClient.chat.completions.create({'),\n",
       " Document(metadata={'source': 'https://docs.smith.langchain.com/tutorials/Developers/observability', 'title': 'Add observability to your LLM application | \\uf8ffü¶úÔ∏è\\uf8ffüõ†Ô∏è LangSmith', 'description': 'Observability is important for any software application, but especially so for LLM applications.', 'language': 'en'}, page_content='below:\\\\n\\\\n\" +    docs.join(\"\\\\n\");      return await openAIClient.chat.completions.create({    messages: [      { role: \"system\", content: systemMessage },      { role: \"user\", content: question },    ],    model: \"gpt-3.5-turbo\",  });});Notice how we import from langsmith import traceable and use it decorate the overall function (@traceable).What happens if you call it in the following way?rag(\"where did harrison work\")This will produce a trace of just the entire pipeline (with the OpenAI call'),\n",
       " Document(metadata={'source': 'https://docs.smith.langchain.com/tutorials/Developers/observability', 'title': 'Add observability to your LLM application | \\uf8ffü¶úÔ∏è\\uf8ffüõ†Ô∏è LangSmith', 'description': 'Observability is important for any software application, but especially so for LLM applications.', 'language': 'en'}, page_content='did harrison work\")This will produce a trace of just the entire pipeline (with the OpenAI call as a child run) - it should look something like thisTrace the retrieval step‚ÄãThere\\'s one last part of the application we haven\\'t traced - the retrieval step!'),\n",
       " Document(metadata={'source': 'https://docs.smith.langchain.com/tutorials/Developers/observability', 'title': 'Add observability to your LLM application | \\uf8ffü¶úÔ∏è\\uf8ffüõ†Ô∏è LangSmith', 'description': 'Observability is important for any software application, but especially so for LLM applications.', 'language': 'en'}, page_content=\"Retrieval is a key part of LLM applications, and we've made it easy to log retrieval steps as well.\"),\n",
       " Document(metadata={'source': 'https://docs.smith.langchain.com/tutorials/Developers/observability', 'title': 'Add observability to your LLM application | \\uf8ffü¶úÔ∏è\\uf8ffüõ†Ô∏è LangSmith', 'description': 'Observability is important for any software application, but especially so for LLM applications.', 'language': 'en'}, page_content='All we have to do is modify our code to look like:PythonTypeScriptfrom openai import OpenAIfrom langsmith import traceablefrom langsmith.wrappers import wrap_openaiopenai_client = wrap_openai(OpenAI())@traceable(run_type=\"retriever\")def retriever(query: str):    results = [\"Harrison worked at Kensho\"]    return results@traceabledef rag(question):    docs = retriever(question)    system_message = \"\"\"Answer the users question using only the provided information below:'),\n",
       " Document(metadata={'source': 'https://docs.smith.langchain.com/tutorials/Developers/observability', 'title': 'Add observability to your LLM application | \\uf8ffü¶úÔ∏è\\uf8ffüõ†Ô∏è LangSmith', 'description': 'Observability is important for any software application, but especially so for LLM applications.', 'language': 'en'}, page_content='system_message = \"\"\"Answer the users question using only the provided information below:        {docs}\"\"\".format(docs=\"\\\\n\".join(docs))        return openai_client.chat.completions.create(        messages=[            {\"role\": \"system\", \"content\": system_message},            {\"role\": \"user\", \"content\": question},        ],        model=\"gpt-3.5-turbo\",    )import { OpenAI } from \"openai\";import { traceable } from \"langsmith/traceable\";import { wrapOpenAI } from \"langsmith/wrappers\";const'),\n",
       " Document(metadata={'source': 'https://docs.smith.langchain.com/tutorials/Developers/observability', 'title': 'Add observability to your LLM application | \\uf8ffü¶úÔ∏è\\uf8ffüõ†Ô∏è LangSmith', 'description': 'Observability is important for any software application, but especially so for LLM applications.', 'language': 'en'}, page_content='{ traceable } from \"langsmith/traceable\";import { wrapOpenAI } from \"langsmith/wrappers\";const openAIClient = wrapOpenAI(new OpenAI());const retriever = traceable(  async function retriever(query: string) {    return [\"This is a document\"];  },  { run_type: \"retriever\" })const rag = traceable(async function rag(question: string) {  const docs = await retriever(question);    const systemMessage =    \"Answer the users question using only the provided information below:\\\\n\\\\n\" +    docs.join(\"\\\\n\");'),\n",
       " Document(metadata={'source': 'https://docs.smith.langchain.com/tutorials/Developers/observability', 'title': 'Add observability to your LLM application | \\uf8ffü¶úÔ∏è\\uf8ffüõ†Ô∏è LangSmith', 'description': 'Observability is important for any software application, but especially so for LLM applications.', 'language': 'en'}, page_content='\"Answer the users question using only the provided information below:\\\\n\\\\n\" +    docs.join(\"\\\\n\");      return await openAIClient.chat.completions.create({    messages: [      { role: \"system\", content: systemMessage },      { role: \"user\", content: question },    ],    model: \"gpt-3.5-turbo\",  });});Notice how we import from langsmith import traceable and use it decorate the overall function (@traceable(run_type=\"retriever\")).What happens if you call it in the following way?rag(\"where did'),\n",
       " Document(metadata={'source': 'https://docs.smith.langchain.com/tutorials/Developers/observability', 'title': 'Add observability to your LLM application | \\uf8ffü¶úÔ∏è\\uf8ffüõ†Ô∏è LangSmith', 'description': 'Observability is important for any software application, but especially so for LLM applications.', 'language': 'en'}, page_content='(@traceable(run_type=\"retriever\")).What happens if you call it in the following way?rag(\"where did harrison work\")This will produce a trace of the whole chain including the retrieval step - it should look something like thisBeta Testing‚ÄãThe next stage of LLM application development is beta testing your application.'),\n",
       " Document(metadata={'source': 'https://docs.smith.langchain.com/tutorials/Developers/observability', 'title': 'Add observability to your LLM application | \\uf8ffü¶úÔ∏è\\uf8ffüõ†Ô∏è LangSmith', 'description': 'Observability is important for any software application, but especially so for LLM applications.', 'language': 'en'}, page_content=\"This is when you release it to a few initial users.\\nHaving good observability set up here is crucial as often you don't know exactly how users will actually use your application, so this allows you get insights into how they do so.\\nThis also means that you probably want to make some changes to your tracing set up to better allow for that.\"),\n",
       " Document(metadata={'source': 'https://docs.smith.langchain.com/tutorials/Developers/observability', 'title': 'Add observability to your LLM application | \\uf8ffü¶úÔ∏è\\uf8ffüõ†Ô∏è LangSmith', 'description': 'Observability is important for any software application, but especially so for LLM applications.', 'language': 'en'}, page_content='This extends the observability you set up in the previous sectionCollecting Feedback‚ÄãA huge part of having good observability during beta testing is collecting feedback.\\nWhat feedback you collect is often application specific - but at the very least a simple thumbs up/down is a good start.\\nAfter logging that feedback, you need to be able to easily associate it with the run that caused that.\\nLuckily LangSmith makes it easy to do that.First, you need to log the feedback from your app.'),\n",
       " Document(metadata={'source': 'https://docs.smith.langchain.com/tutorials/Developers/observability', 'title': 'Add observability to your LLM application | \\uf8ffü¶úÔ∏è\\uf8ffüõ†Ô∏è LangSmith', 'description': 'Observability is important for any software application, but especially so for LLM applications.', 'language': 'en'}, page_content='Luckily LangSmith makes it easy to do that.First, you need to log the feedback from your app.\\nAn easy way to do this is to keep track of a run ID for each run, and then use that to log feedback.'),\n",
       " Document(metadata={'source': 'https://docs.smith.langchain.com/tutorials/Developers/observability', 'title': 'Add observability to your LLM application | \\uf8ffü¶úÔ∏è\\uf8ffüõ†Ô∏è LangSmith', 'description': 'Observability is important for any software application, but especially so for LLM applications.', 'language': 'en'}, page_content='Keeping track of the run ID would look something like:import uuidrun_id = str(uuid.uuid4())rag(    \"where did harrison work\",    langsmith_extra={\"run_id\": run_id})Associating feedback with that run would look something like:from langsmith import Clientls_client = Client()ls_client.create_feedback(    run_id,    key=\"user-score\",    score=1.0,)Once the feedback is logged, you can then see it associated with each run by clicking into the Metadata tab when inspecting the run.'),\n",
       " Document(metadata={'source': 'https://docs.smith.langchain.com/tutorials/Developers/observability', 'title': 'Add observability to your LLM application | \\uf8ffü¶úÔ∏è\\uf8ffüõ†Ô∏è LangSmith', 'description': 'Observability is important for any software application, but especially so for LLM applications.', 'language': 'en'}, page_content='It should look something like thisYou can also query for all runs with positive (or negative) feedback by using the filtering logic in the runs table.\\nYou can do this by creating a filter like the following:Logging Metadata‚ÄãIt is also a good idea to start logging metadata.\\nThis allows you to start keep track of different attributes of your app.'),\n",
       " Document(metadata={'source': 'https://docs.smith.langchain.com/tutorials/Developers/observability', 'title': 'Add observability to your LLM application | \\uf8ffü¶úÔ∏è\\uf8ffüõ†Ô∏è LangSmith', 'description': 'Observability is important for any software application, but especially so for LLM applications.', 'language': 'en'}, page_content='This allows you to start keep track of different attributes of your app.\\nThis is important in allowing you to know what version or variant of your app was used to produce a given result.For this example, we will log the LLM used.\\nOftentimes you may be experimenting with different LLMs, so having that information as metadata can be useful for filtering.'),\n",
       " Document(metadata={'source': 'https://docs.smith.langchain.com/tutorials/Developers/observability', 'title': 'Add observability to your LLM application | \\uf8ffü¶úÔ∏è\\uf8ffüõ†Ô∏è LangSmith', 'description': 'Observability is important for any software application, but especially so for LLM applications.', 'language': 'en'}, page_content='In order to do that, we can add it as such:from openai import OpenAIfrom langsmith import traceablefrom langsmith.wrappers import wrap_openaiopenai_client = wrap_openai(OpenAI())@traceable(run_type=\"retriever\")def retriever(query: str):    results = [\"Harrison worked at Kensho\"]    return results@traceable(metadata={\"llm\": \"gpt-3.5-turbo\"})def rag(question):    docs = retriever(question)    system_message = \"\"\"Answer the users question using only the provided information below:'),\n",
       " Document(metadata={'source': 'https://docs.smith.langchain.com/tutorials/Developers/observability', 'title': 'Add observability to your LLM application | \\uf8ffü¶úÔ∏è\\uf8ffüõ†Ô∏è LangSmith', 'description': 'Observability is important for any software application, but especially so for LLM applications.', 'language': 'en'}, page_content='system_message = \"\"\"Answer the users question using only the provided information below:    {docs}\"\"\".format(docs=\\'\\\\n\\'.join(docs))    return openai_client.chat.completions.create(messages = [        {\"role\": \"system\", \"content\": system_message},        {\"role\": \"user\", \"content\": question},    ], model=\"gpt-3.5-turbo\")Notice we added @traceable(metadata={\"llm\": \"gpt-3.5-turbo\"}) to the rag function.Keeping track of metadata in this way assumes that it is known ahead of time.'),\n",
       " Document(metadata={'source': 'https://docs.smith.langchain.com/tutorials/Developers/observability', 'title': 'Add observability to your LLM application | \\uf8ffü¶úÔ∏è\\uf8ffüõ†Ô∏è LangSmith', 'description': 'Observability is important for any software application, but especially so for LLM applications.', 'language': 'en'}, page_content='This is fine for LLM types, but less desirable for other types of information - like a User ID.'),\n",
       " Document(metadata={'source': 'https://docs.smith.langchain.com/tutorials/Developers/observability', 'title': 'Add observability to your LLM application | \\uf8ffü¶úÔ∏è\\uf8ffüõ†Ô∏è LangSmith', 'description': 'Observability is important for any software application, but especially so for LLM applications.', 'language': 'en'}, page_content='In order to log information that, we can pass it in at run time with the run ID.import uuidrun_id = str(uuid.uuid4())rag(    \"where did harrison work\",    langsmith_extra={\"run_id\": run_id, \"metadata\": {\"user_id\": \"harrison\"}})Now that we\\'ve logged these two pieces of metadata, we should be able to see them both show up in the UI here.We can filter for these pieces of information by constructing a filter like the following:Production‚ÄãGreat - you\\'ve used this newfound observability to iterate'),\n",
       " Document(metadata={'source': 'https://docs.smith.langchain.com/tutorials/Developers/observability', 'title': 'Add observability to your LLM application | \\uf8ffü¶úÔ∏è\\uf8ffüõ†Ô∏è LangSmith', 'description': 'Observability is important for any software application, but especially so for LLM applications.', 'language': 'en'}, page_content=\"a filter like the following:Production‚ÄãGreat - you've used this newfound observability to iterate quickly and gain confidence that your app is performing well.\"),\n",
       " Document(metadata={'source': 'https://docs.smith.langchain.com/tutorials/Developers/observability', 'title': 'Add observability to your LLM application | \\uf8ffü¶úÔ∏è\\uf8ffüõ†Ô∏è LangSmith', 'description': 'Observability is important for any software application, but especially so for LLM applications.', 'language': 'en'}, page_content=\"Time to ship it to production!\\nWhat new observability do you need to add?First of all, let's note that the same observability you've already added will keep on providing value in production.\\nYou will continue to be able to drill down into particular runs.In production you likely have a LOT more traffic. So you don't really want to be stuck looking at datapoints one at a time.\"),\n",
       " Document(metadata={'source': 'https://docs.smith.langchain.com/tutorials/Developers/observability', 'title': 'Add observability to your LLM application | \\uf8ffü¶úÔ∏è\\uf8ffüõ†Ô∏è LangSmith', 'description': 'Observability is important for any software application, but especially so for LLM applications.', 'language': 'en'}, page_content='Luckily, LangSmith has a set of tools to help with observability in production.Monitoring‚ÄãIf you click on the Monitor tab in a project, you will see a series of monitoring charts.\\nHere we track lots of LLM specific statistics - number of traces, feedback, time-to-first-token, etc.'),\n",
       " Document(metadata={'source': 'https://docs.smith.langchain.com/tutorials/Developers/observability', 'title': 'Add observability to your LLM application | \\uf8ffü¶úÔ∏è\\uf8ffüõ†Ô∏è LangSmith', 'description': 'Observability is important for any software application, but especially so for LLM applications.', 'language': 'en'}, page_content='You can view these over time across a few different time bins.A/B Testing‚ÄãnoteGroup-by functionality for A/B testing requires at least 2 different values to exist for a given metadata key.You can also use this tab to perform a version of A/B Testing.\\nIn the previous tutorial we starting tracking a few different metadata attributes - one of which was llm.\\nWe can group the monitoring charts by ANY metadata attribute, and instantly get grouped charts over time.'),\n",
       " Document(metadata={'source': 'https://docs.smith.langchain.com/tutorials/Developers/observability', 'title': 'Add observability to your LLM application | \\uf8ffü¶úÔ∏è\\uf8ffüõ†Ô∏è LangSmith', 'description': 'Observability is important for any software application, but especially so for LLM applications.', 'language': 'en'}, page_content='This allows us to experiment with different LLMs (or prompts, or other) and track their performance over time.In order to do this, we just need to click on the Metadata button at the top.\\nThis will give us a drop down of options to choose from to group by:Once we select this, we will start to see charts grouped by this attribute:Drilldown‚ÄãOne of the awesome abilities that LangSmith provides is the ability to easily drilldown into datapoints that you identify'),\n",
       " Document(metadata={'source': 'https://docs.smith.langchain.com/tutorials/Developers/observability', 'title': 'Add observability to your LLM application | \\uf8ffü¶úÔ∏è\\uf8ffüõ†Ô∏è LangSmith', 'description': 'Observability is important for any software application, but especially so for LLM applications.', 'language': 'en'}, page_content='as problematic while looking at monitoring charts.\\nIn order to do this, you can simply hover over a datapoint in the monitoring chart.\\nWhen you do this, you will be able to click the datapoint.\\nThis will lead you back to the runs table with a filtered view:Conclusion‚ÄãIn this tutorial you saw how to set up your LLM application with best-in-class observability.'),\n",
       " Document(metadata={'source': 'https://docs.smith.langchain.com/tutorials/Developers/observability', 'title': 'Add observability to your LLM application | \\uf8ffü¶úÔ∏è\\uf8ffüõ†Ô∏è LangSmith', 'description': 'Observability is important for any software application, but especially so for LLM applications.', 'language': 'en'}, page_content='No matter what stage your application is in, you will still benefit from observability.If you have more in-depth questions about observability, check out the how-to section for guides on topics like testing, prompt management, and more.Observability is not the only thing LangSmith can help with!\\nIt can also help with evaluation, optimization, and more!'),\n",
       " Document(metadata={'source': 'https://docs.smith.langchain.com/tutorials/Developers/observability', 'title': 'Add observability to your LLM application | \\uf8ffü¶úÔ∏è\\uf8ffüõ†Ô∏è LangSmith', 'description': 'Observability is important for any software application, but especially so for LLM applications.', 'language': 'en'}, page_content='Check out the other tutorials to see how to get started with those.Was this page helpful?You can leave detailed feedback on GitHub.PreviousOptimize tracing spend on LangSmithNextEvaluate your LLM applicationPrototypingSet up your environmentTrace your LLM callsTrace the whole chainTrace the retrieval stepBeta TestingCollecting FeedbackLogging MetadataProductionMonitoringA/B TestingDrilldownConclusionCommunityDiscordTwitterGitHubDocs CodeLangSmith SDKPythonJS/TSMoreHomepageBlogLangChain Python'),\n",
       " Document(metadata={'source': 'https://docs.smith.langchain.com/tutorials/Developers/observability', 'title': 'Add observability to your LLM application | \\uf8ffü¶úÔ∏è\\uf8ffüõ†Ô∏è LangSmith', 'description': 'Observability is important for any software application, but especially so for LLM applications.', 'language': 'en'}, page_content='CodeLangSmith SDKPythonJS/TSMoreHomepageBlogLangChain Python DocsLangChain JS/TS DocsCopyright ¬© 2024 LangChain, Inc.')]"
      ]
     },
     "execution_count": 15,
     "metadata": {},
     "output_type": "execute_result"
    }
   ],
   "source": [
    "documents"
   ]
  },
  {
   "cell_type": "markdown",
   "metadata": {},
   "source": [
    "## Embedding & Querying"
   ]
  },
  {
   "cell_type": "code",
   "execution_count": 16,
   "metadata": {},
   "outputs": [],
   "source": [
    "from langchain_openai import OpenAIEmbeddings\n",
    "embeddings = OpenAIEmbeddings()"
   ]
  },
  {
   "cell_type": "code",
   "execution_count": 18,
   "metadata": {},
   "outputs": [],
   "source": [
    "from langchain_community.vectorstores import FAISS\n",
    "vectorstoredb = FAISS.from_documents(documents,embeddings)"
   ]
  },
  {
   "cell_type": "code",
   "execution_count": 19,
   "metadata": {},
   "outputs": [
    {
     "data": {
      "text/plain": [
       "[Document(metadata={'source': 'https://docs.smith.langchain.com/tutorials/Developers/observability', 'title': 'Add observability to your LLM application | \\uf8ffü¶úÔ∏è\\uf8ffüõ†Ô∏è LangSmith', 'description': 'Observability is important for any software application, but especially so for LLM applications.', 'language': 'en'}, page_content=\"LangSmith is built for tracing the entire LLM pipeline - so let's do that!\"),\n",
       " Document(metadata={'source': 'https://docs.smith.langchain.com/tutorials/Developers/observability', 'title': 'Add observability to your LLM application | \\uf8ffü¶úÔ∏è\\uf8ffüõ†Ô∏è LangSmith', 'description': 'Observability is important for any software application, but especially so for LLM applications.', 'language': 'en'}, page_content='LLMs are non-deterministic by nature, meaning they can produce unexpected results.\\nThis makes them trickier than normal to debug.Luckily, this is where LangSmith can help!\\nLangSmith has LLM-native observability, allowing you to get meaningful insights into your application.Note that observability is important throughout all stages of application development - from prototyping, to beta testing, to production.'),\n",
       " Document(metadata={'source': 'https://docs.smith.langchain.com/tutorials/Developers/observability', 'title': 'Add observability to your LLM application | \\uf8ffü¶úÔ∏è\\uf8ffüõ†Ô∏è LangSmith', 'description': 'Observability is important for any software application, but especially so for LLM applications.', 'language': 'en'}, page_content='to the default project (though you can easily change that).export LANGCHAIN_TRACING_V2=trueexport LANGCHAIN_API_KEY=<your-api-key>export LANGCHAIN_PROJECT=defaultTrace your LLM calls‚ÄãThe first thing you might want to trace is all your OpenAI calls.'),\n",
       " Document(metadata={'source': 'https://docs.smith.langchain.com/tutorials/Developers/observability', 'title': 'Add observability to your LLM application | \\uf8ffü¶úÔ∏è\\uf8ffüõ†Ô∏è LangSmith', 'description': 'Observability is important for any software application, but especially so for LLM applications.', 'language': 'en'}, page_content='Check out the other tutorials to see how to get started with those.Was this page helpful?You can leave detailed feedback on GitHub.PreviousOptimize tracing spend on LangSmithNextEvaluate your LLM applicationPrototypingSet up your environmentTrace your LLM callsTrace the whole chainTrace the retrieval stepBeta TestingCollecting FeedbackLogging MetadataProductionMonitoringA/B TestingDrilldownConclusionCommunityDiscordTwitterGitHubDocs CodeLangSmith SDKPythonJS/TSMoreHomepageBlogLangChain Python')]"
      ]
     },
     "execution_count": 19,
     "metadata": {},
     "output_type": "execute_result"
    }
   ],
   "source": [
    "query = \" What is Tracing an LLM ?\"\n",
    "result = vectorstoredb.similarity_search(query)\n",
    "result"
   ]
  },
  {
   "cell_type": "markdown",
   "metadata": {},
   "source": [
    "## Retrieval Chain & Document Chain"
   ]
  },
  {
   "cell_type": "code",
   "execution_count": 21,
   "metadata": {},
   "outputs": [],
   "source": [
    "from langchain.chains.combine_documents import create_stuff_documents_chain\n",
    "from langchain_core.prompts import ChatPromptTemplate\n",
    "from langchain_openai import ChatOpenAI\n",
    "llm = ChatOpenAI(model=\"gpt-4o\")\n",
    "\n",
    "\n",
    "prompt = ChatPromptTemplate.from_template(\n",
    "    \"\"\"\n",
    "Answer the following question based only on the provided context:\n",
    "<context>\n",
    "{context}\n",
    "</context>\n",
    "\n",
    "    \"\"\"\n",
    ")\n",
    "\n",
    "document_chain = create_stuff_documents_chain(llm, prompt)"
   ]
  },
  {
   "cell_type": "code",
   "execution_count": 22,
   "metadata": {},
   "outputs": [
    {
     "data": {
      "text/plain": [
       "RunnableBinding(bound=RunnableBinding(bound=RunnableAssign(mapper={\n",
       "  context: RunnableLambda(format_docs)\n",
       "}), config={'run_name': 'format_inputs'})\n",
       "| ChatPromptTemplate(input_variables=['context'], messages=[HumanMessagePromptTemplate(prompt=PromptTemplate(input_variables=['context'], template='\\nAnswer the following question based only on the provided context:\\n<context>\\n{context}\\n</context>\\n\\n    '))])\n",
       "| ChatOpenAI(client=<openai.resources.chat.completions.Completions object at 0x1306b0070>, async_client=<openai.resources.chat.completions.AsyncCompletions object at 0x1306b1990>, root_client=<openai.OpenAI object at 0x1304580a0>, root_async_client=<openai.AsyncOpenAI object at 0x1306b00a0>, model_name='gpt-4o', openai_api_key=SecretStr('**********'), openai_proxy='')\n",
       "| StrOutputParser(), config={'run_name': 'stuff_documents_chain'})"
      ]
     },
     "execution_count": 22,
     "metadata": {},
     "output_type": "execute_result"
    }
   ],
   "source": [
    "document_chain"
   ]
  },
  {
   "cell_type": "code",
   "execution_count": null,
   "metadata": {},
   "outputs": [],
   "source": [
    "document_chain.invoke(\n",
    "    {\n",
    "        \"input\":\"he first thing you might want to trace is all your OpenAI calls. \",\n",
    "        \"context\": \" \" ## Need Context \n",
    "    }\n",
    ")"
   ]
  },
  {
   "cell_type": "markdown",
   "metadata": {},
   "source": [
    "## Retrievers"
   ]
  },
  {
   "cell_type": "code",
   "execution_count": 23,
   "metadata": {},
   "outputs": [],
   "source": [
    "vectorstore_retriever = vectorstoredb.as_retriever()\n",
    "\n",
    "from langchain.chains import create_retrieval_chain\n",
    "\n",
    "complete_chain = create_retrieval_chain(vectorstore_retriever, document_chain)"
   ]
  },
  {
   "cell_type": "code",
   "execution_count": 24,
   "metadata": {},
   "outputs": [
    {
     "data": {
      "text/plain": [
       "RunnableBinding(bound=RunnableAssign(mapper={\n",
       "  context: RunnableBinding(bound=RunnableLambda(lambda x: x['input'])\n",
       "           | VectorStoreRetriever(tags=['FAISS', 'OpenAIEmbeddings'], vectorstore=<langchain_community.vectorstores.faiss.FAISS object at 0x11114caf0>), config={'run_name': 'retrieve_documents'})\n",
       "})\n",
       "| RunnableAssign(mapper={\n",
       "    answer: RunnableBinding(bound=RunnableBinding(bound=RunnableAssign(mapper={\n",
       "              context: RunnableLambda(format_docs)\n",
       "            }), config={'run_name': 'format_inputs'})\n",
       "            | ChatPromptTemplate(input_variables=['context'], messages=[HumanMessagePromptTemplate(prompt=PromptTemplate(input_variables=['context'], template='\\nAnswer the following question based only on the provided context:\\n<context>\\n{context}\\n</context>\\n\\n    '))])\n",
       "            | ChatOpenAI(client=<openai.resources.chat.completions.Completions object at 0x1306b0070>, async_client=<openai.resources.chat.completions.AsyncCompletions object at 0x1306b1990>, root_client=<openai.OpenAI object at 0x1304580a0>, root_async_client=<openai.AsyncOpenAI object at 0x1306b00a0>, model_name='gpt-4o', openai_api_key=SecretStr('**********'), openai_proxy='')\n",
       "            | StrOutputParser(), config={'run_name': 'stuff_documents_chain'})\n",
       "  }), config={'run_name': 'retrieval_chain'})"
      ]
     },
     "execution_count": 24,
     "metadata": {},
     "output_type": "execute_result"
    }
   ],
   "source": [
    "complete_chain"
   ]
  },
  {
   "cell_type": "code",
   "execution_count": 26,
   "metadata": {},
   "outputs": [
    {
     "data": {
      "text/plain": [
       "'Based on the provided context, calling `rag(\"where did harrison work\")` will produce a trace of just the entire pipeline, with the OpenAI call included as a child run.'"
      ]
     },
     "execution_count": 26,
     "metadata": {},
     "output_type": "execute_result"
    }
   ],
   "source": [
    "response = complete_chain.invoke({\"input\":\"he first thing you might want to trace is all your OpenAI calls.\"})\n",
    "response['answer']"
   ]
  },
  {
   "cell_type": "code",
   "execution_count": null,
   "metadata": {},
   "outputs": [],
   "source": [
    " "
   ]
  }
 ],
 "metadata": {
  "kernelspec": {
   "display_name": "llm-venv",
   "language": "python",
   "name": "python3"
  },
  "language_info": {
   "codemirror_mode": {
    "name": "ipython",
    "version": 3
   },
   "file_extension": ".py",
   "mimetype": "text/x-python",
   "name": "python",
   "nbconvert_exporter": "python",
   "pygments_lexer": "ipython3",
   "version": "3.10.14"
  }
 },
 "nbformat": 4,
 "nbformat_minor": 2
}
